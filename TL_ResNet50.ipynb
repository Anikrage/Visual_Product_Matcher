{
  "nbformat": 4,
  "nbformat_minor": 0,
  "metadata": {
    "colab": {
      "provenance": [],
      "gpuType": "T4",
      "authorship_tag": "ABX9TyNx0qpKpPB3VMkkjz9BCJ7T",
      "include_colab_link": true
    },
    "kernelspec": {
      "name": "python3",
      "display_name": "Python 3"
    },
    "language_info": {
      "name": "python"
    },
    "accelerator": "GPU"
  },
  "cells": [
    {
      "cell_type": "markdown",
      "metadata": {
        "id": "view-in-github",
        "colab_type": "text"
      },
      "source": [
        "<a href=\"https://colab.research.google.com/github/Anikrage/Visual_Product_Matcher/blob/main/TL_ResNet50.ipynb\" target=\"_parent\"><img src=\"https://colab.research.google.com/assets/colab-badge.svg\" alt=\"Open In Colab\"/></a>"
      ]
    },
    {
      "cell_type": "code",
      "execution_count": 4,
      "metadata": {
        "id": "muHDPpI2JBFW",
        "colab": {
          "base_uri": "https://localhost:8080/"
        },
        "outputId": "92db69d7-3c74-4996-8a80-ac73b3de5cbc"
      },
      "outputs": [
        {
          "output_type": "stream",
          "name": "stdout",
          "text": [
            "\u001b[?25l   \u001b[90m━━━━━━━━━━━━━━━━━━━━━━━━━━━━━━━━━━━━━━━━\u001b[0m \u001b[32m0.0/1.7 MB\u001b[0m \u001b[31m?\u001b[0m eta \u001b[36m-:--:--\u001b[0m\r\u001b[2K   \u001b[91m━━━━━━━━━━━━━━━━━━━━━━━━━━━━━━━━━━━━\u001b[0m\u001b[91m╸\u001b[0m\u001b[90m━━━\u001b[0m \u001b[32m1.6/1.7 MB\u001b[0m \u001b[31m47.3 MB/s\u001b[0m eta \u001b[36m0:00:01\u001b[0m\r\u001b[2K   \u001b[90m━━━━━━━━━━━━━━━━━━━━━━━━━━━━━━━━━━━━━━━━\u001b[0m \u001b[32m1.7/1.7 MB\u001b[0m \u001b[31m34.6 MB/s\u001b[0m eta \u001b[36m0:00:00\u001b[0m\n",
            "\u001b[?25h\u001b[?25l   \u001b[90m━━━━━━━━━━━━━━━━━━━━━━━━━━━━━━━━━━━━━━━━\u001b[0m \u001b[32m0.0/331.1 kB\u001b[0m \u001b[31m?\u001b[0m eta \u001b[36m-:--:--\u001b[0m\r\u001b[2K   \u001b[90m━━━━━━━━━━━━━━━━━━━━━━━━━━━━━━━━━━━━━━━━\u001b[0m \u001b[32m331.1/331.1 kB\u001b[0m \u001b[31m29.9 MB/s\u001b[0m eta \u001b[36m0:00:00\u001b[0m\n",
            "\u001b[?25h"
          ]
        }
      ],
      "source": [
        "!pip install pymongo python-dotenv tensorflow Pillow requests tqdm -q"
      ]
    },
    {
      "cell_type": "code",
      "source": [
        "import os\n",
        "import requests\n",
        "import numpy as np\n",
        "from PIL import Image\n",
        "from io import BytesIO"
      ],
      "metadata": {
        "id": "CgEn6-3zJQFi"
      },
      "execution_count": 5,
      "outputs": []
    },
    {
      "cell_type": "code",
      "source": [
        "import tensorflow as tf\n",
        "from tensorflow.keras.applications import ResNet50\n",
        "from tensorflow.keras.applications.resnet50 import preprocess_input\n",
        "from tensorflow.keras.preprocessing.image import img_to_array"
      ],
      "metadata": {
        "id": "xWGUWa91SEkE"
      },
      "execution_count": 6,
      "outputs": []
    },
    {
      "cell_type": "code",
      "source": [
        "from pymongo import MongoClient\n",
        "from pymongo.server_api import ServerApi"
      ],
      "metadata": {
        "id": "ambsSZ37SGp-"
      },
      "execution_count": 7,
      "outputs": []
    },
    {
      "cell_type": "code",
      "source": [
        "from google.colab import userdata"
      ],
      "metadata": {
        "id": "D54D7lVRJaup"
      },
      "execution_count": 8,
      "outputs": []
    },
    {
      "cell_type": "markdown",
      "source": [
        "Databse Init"
      ],
      "metadata": {
        "id": "je5ZsX7SYGuy"
      }
    },
    {
      "cell_type": "code",
      "source": [
        "username = userdata.get('MONGO_USERNAME')\n",
        "password = userdata.get('MONGO_PASSWORD')\n",
        "cluster = userdata.get('MONGO_CLUSTER')\n",
        "database = userdata.get('MONGO_DATABAS')"
      ],
      "metadata": {
        "id": "TUAtcV9oKcBA"
      },
      "execution_count": 9,
      "outputs": []
    },
    {
      "cell_type": "code",
      "source": [
        "db_url = f\"mongodb+srv://{username}:{password}@{cluster}/?retryWrites=true&w=majority\""
      ],
      "metadata": {
        "id": "VbmYi1KbMVz3"
      },
      "execution_count": 10,
      "outputs": []
    },
    {
      "cell_type": "code",
      "source": [
        "client = MongoClient(db_url, server_api=ServerApi('1'))\n",
        "try:\n",
        "    client.admin.command('ping')\n",
        "    print(\"Connected\")\n",
        "except Exception as e:\n",
        "    print(e)"
      ],
      "metadata": {
        "colab": {
          "base_uri": "https://localhost:8080/"
        },
        "id": "TFOLTE2FOJbW",
        "outputId": "b5ef8e66-30e0-426c-d9d5-d3ee42f6b8dd"
      },
      "execution_count": 11,
      "outputs": [
        {
          "output_type": "stream",
          "name": "stdout",
          "text": [
            "Connected\n"
          ]
        }
      ]
    },
    {
      "cell_type": "code",
      "source": [
        "db=client[database]\n",
        "products_collection=db['products']"
      ],
      "metadata": {
        "id": "_2gyYDCbQYkR"
      },
      "execution_count": 12,
      "outputs": []
    },
    {
      "cell_type": "markdown",
      "source": [
        "Model Init"
      ],
      "metadata": {
        "id": "im48gsCMYJFh"
      }
    },
    {
      "cell_type": "code",
      "source": [
        "model=ResNet50(\n",
        "    weights='imagenet',include_top=False,\n",
        "    pooling='avg',input_shape=(224,224,3)\n",
        ")"
      ],
      "metadata": {
        "colab": {
          "base_uri": "https://localhost:8080/"
        },
        "id": "k_Bu9bHuRQjO",
        "outputId": "657e89b8-8903-44ca-ad0e-f5d44720de0d"
      },
      "execution_count": 13,
      "outputs": [
        {
          "output_type": "stream",
          "name": "stdout",
          "text": [
            "Downloading data from https://storage.googleapis.com/tensorflow/keras-applications/resnet/resnet50_weights_tf_dim_ordering_tf_kernels_notop.h5\n",
            "\u001b[1m94765736/94765736\u001b[0m \u001b[32m━━━━━━━━━━━━━━━━━━━━\u001b[0m\u001b[37m\u001b[0m \u001b[1m0s\u001b[0m 0us/step\n"
          ]
        }
      ]
    },
    {
      "cell_type": "code",
      "source": [
        "print(f\"Output shape: {model.output_shape}\")"
      ],
      "metadata": {
        "colab": {
          "base_uri": "https://localhost:8080/"
        },
        "id": "TMeC3nbZRePc",
        "outputId": "f9ad5d88-c63d-4eda-b2f5-eca6495eacde"
      },
      "execution_count": 14,
      "outputs": [
        {
          "output_type": "stream",
          "name": "stdout",
          "text": [
            "Output shape: (None, 2048)\n"
          ]
        }
      ]
    },
    {
      "cell_type": "code",
      "source": [
        "def get_image_features(img_url):\n",
        "  try:\n",
        "    response = requests.get(img_url, timeout=10)\n",
        "    img=Image.open(BytesIO(response.content))\n",
        "\n",
        "    img = img.convert('RGB')\n",
        "    img = img.resize((224,224))\n",
        "    img_array=img_to_array(img)\n",
        "    img_array=np.expand_dims(img_array,axis=0)\n",
        "    img_array=preprocess_input(img_array)\n",
        "    features=model.predict(img_array,verbose=0)\n",
        "    features=features.flatten()\n",
        "\n",
        "    return features\n",
        "  except Exception as e:\n",
        "    print(f\"Errror: {e}\")"
      ],
      "metadata": {
        "id": "RVx-A2CCRjcl"
      },
      "execution_count": 15,
      "outputs": []
    },
    {
      "cell_type": "markdown",
      "source": [
        "Testing on 1 product"
      ],
      "metadata": {
        "id": "JSzA6NWOYDV5"
      }
    },
    {
      "cell_type": "code",
      "source": [
        "test=products_collection.find_one({'image_url':{'$exists':True}})\n",
        "print(test['name'])"
      ],
      "metadata": {
        "id": "yUrCZrPWVagd",
        "colab": {
          "base_uri": "https://localhost:8080/"
        },
        "outputId": "0251c3b7-4821-4db7-e09c-950b997676f6"
      },
      "execution_count": 17,
      "outputs": [
        {
          "output_type": "stream",
          "name": "stdout",
          "text": [
            "Basics Men Blue Striped T-shirt\n"
          ]
        }
      ]
    },
    {
      "cell_type": "code",
      "source": [
        "test_features=get_image_features(test['image_url'])\n",
        "print(test_features)"
      ],
      "metadata": {
        "colab": {
          "base_uri": "https://localhost:8080/"
        },
        "id": "cgE1TvapYW9f",
        "outputId": "caa62771-dca7-4de5-ea7f-f235492070b5"
      },
      "execution_count": 19,
      "outputs": [
        {
          "output_type": "stream",
          "name": "stdout",
          "text": [
            "[0.06252243 0.2839572  0.23323105 ... 0.01845633 0.05787547 0.6622259 ]\n"
          ]
        }
      ]
    },
    {
      "cell_type": "markdown",
      "source": [
        "Extracting Features of all products in DB"
      ],
      "metadata": {
        "id": "vPiHT6FAYrba"
      }
    },
    {
      "cell_type": "code",
      "source": [
        "products=products_collection.find({'image_url':{'$exists':True}})\n",
        "products=list(products)"
      ],
      "metadata": {
        "id": "xn2FLbwIYxNO"
      },
      "execution_count": 20,
      "outputs": []
    },
    {
      "cell_type": "code",
      "source": [
        "from tqdm import tqdm"
      ],
      "metadata": {
        "id": "uYvXQRhFcx7a"
      },
      "execution_count": 24,
      "outputs": []
    },
    {
      "cell_type": "code",
      "source": [
        "for i,p in tqdm(enumerate(products),total=len(products)):\n",
        "  if 'feature_embed' in p:\n",
        "    continue\n",
        "  image_url=p['image_url']\n",
        "  features=get_image_features(image_url)\n",
        "  if features is not None:\n",
        "    feature_list=features.tolist()\n",
        "    products_collection.update_one(\n",
        "        {'_id':p['_id']},\n",
        "        {'$set':{'embedding':feature_list}}\n",
        "    )"
      ],
      "metadata": {
        "colab": {
          "base_uri": "https://localhost:8080/"
        },
        "id": "CAfDpzU7bTkq",
        "outputId": "4c22d8e5-a9b4-4787-e7d8-f3f371ad507f"
      },
      "execution_count": 29,
      "outputs": [
        {
          "output_type": "stream",
          "name": "stderr",
          "text": [
            "100%|██████████| 225/225 [01:28<00:00,  2.54it/s]\n"
          ]
        }
      ]
    },
    {
      "cell_type": "markdown",
      "source": [
        "testing on irl data"
      ],
      "metadata": {
        "id": "VA47EUNDg6rT"
      }
    },
    {
      "cell_type": "code",
      "source": [
        "test_url=\"https://imagescdn.peterengland.com/img/app/product/3/39831756-19499222.jpg\"\n",
        "test_features=get_image_features(test_url)"
      ],
      "metadata": {
        "id": "F7KXLLY2dBFT"
      },
      "execution_count": 57,
      "outputs": []
    },
    {
      "cell_type": "code",
      "source": [
        "test_embed=test_features.reshape(1,-1)"
      ],
      "metadata": {
        "id": "7AT1We-2hTVT"
      },
      "execution_count": 58,
      "outputs": []
    },
    {
      "cell_type": "code",
      "source": [
        "db_embeds=products_collection.find({'embedding':{'$exists':True}})\n",
        "db_embeds=list(db_embeds)"
      ],
      "metadata": {
        "id": "0b0_qle3hgU1"
      },
      "execution_count": 59,
      "outputs": []
    },
    {
      "cell_type": "code",
      "source": [
        "from sklearn.metrics.pairwise import cosine_similarity"
      ],
      "metadata": {
        "id": "G5Q045L5iNEp"
      },
      "execution_count": 60,
      "outputs": []
    },
    {
      "cell_type": "code",
      "source": [
        "matches=[]\n",
        "for p in db_embeds:\n",
        "  p_embed=np.array(p['embedding']).reshape(1,-1)\n",
        "  similar=cosine_similarity(test_embed,p_embed)\n",
        "\n",
        "  matches.append({'name':p['name'],\n",
        "                  'image_url':p['image_url'],\n",
        "                  'similarity':similar})"
      ],
      "metadata": {
        "id": "hSQg2hsWhsBJ"
      },
      "execution_count": 61,
      "outputs": []
    },
    {
      "cell_type": "code",
      "source": [
        "matches.sort(key=lambda x:x['similarity'],reverse=True)"
      ],
      "metadata": {
        "id": "BGh50YQjizmk"
      },
      "execution_count": 62,
      "outputs": []
    },
    {
      "cell_type": "code",
      "source": [
        "print(matches[0])"
      ],
      "metadata": {
        "colab": {
          "base_uri": "https://localhost:8080/"
        },
        "id": "yJX1E5zxi5Em",
        "outputId": "21ccfa5f-ac97-4a1a-81d7-6ae073c7dec4"
      },
      "execution_count": 63,
      "outputs": [
        {
          "output_type": "stream",
          "name": "stdout",
          "text": [
            "{'name': 'Mark Taylor Men Blue Striped Shirt', 'image_url': 'https://res.cloudinary.com/driwu0lv4/image/upload/v1759947787/product_matcher/products/9064.jpg', 'similarity': array([[0.60303607]])}\n"
          ]
        }
      ]
    },
    {
      "cell_type": "code",
      "source": [
        "for i,m in enumerate(matches[:10],1):\n",
        "  print(f\"{i}. {m['name']} - {m['similarity']}\")"
      ],
      "metadata": {
        "colab": {
          "base_uri": "https://localhost:8080/"
        },
        "id": "ddX1_wd6kdEg",
        "outputId": "c4ebe90e-8919-4897-9456-d21d9ba3ea4e"
      },
      "execution_count": 64,
      "outputs": [
        {
          "output_type": "stream",
          "name": "stdout",
          "text": [
            "1. Mark Taylor Men Blue Striped Shirt - [[0.60303607]]\n",
            "2. Puma Men Blue & White T-shirt - [[0.55600898]]\n",
            "3. Arrow Woman Solid Cream Dress - [[0.53978922]]\n",
            "4. Genesis Black Casual Shirt - [[0.53536541]]\n",
            "5. Peter England Men Dark Olive Green Trousers - [[0.52615644]]\n",
            "6. Hanes Men Pack of 2 Half Contrast Piping Ringer T-shirts - [[0.51327921]]\n",
            "7. Levis Men Comfort Style Grey Innerwear Vest - [[0.5080645]]\n",
            "8. Chromozome Men Black Innerwear Vest - [[0.50603407]]\n",
            "9. UCB Men's Super Star Print Purple T-shirt - [[0.50252917]]\n",
            "10. Facit Men Bicep Tee Red Innerwear Vest - [[0.50232876]]\n"
          ]
        }
      ]
    },
    {
      "cell_type": "code",
      "source": [],
      "metadata": {
        "id": "aoW7n2R2knpU"
      },
      "execution_count": null,
      "outputs": []
    }
  ]
}