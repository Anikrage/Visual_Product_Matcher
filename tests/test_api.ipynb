{
 "cells": [
  {
   "cell_type": "code",
   "execution_count": 1,
   "id": "652ffd56",
   "metadata": {},
   "outputs": [],
   "source": [
    "import requests"
   ]
  },
  {
   "cell_type": "code",
   "execution_count": 10,
   "id": "43341cc6",
   "metadata": {},
   "outputs": [
    {
     "name": "stdout",
     "output_type": "stream",
     "text": [
      "Status: 200\n",
      "Response: {'results': [{'product_id': 50981, 'name': 'Enamor Women Brown Nightdress', 'image_url': 'https://res.cloudinary.com/driwu0lv4/image/upload/v1760032417/product_matcher/products/50981.jpg', 'similarity': 0.5260267305655497}, {'product_id': 57092, 'name': 'Elle Women Off White Skirt', 'image_url': 'https://res.cloudinary.com/driwu0lv4/image/upload/v1760032326/product_matcher/products/57092.jpg', 'similarity': 0.5043912988628181}, {'product_id': 34588, 'name': 'Tonga Women Cream Dress', 'image_url': 'https://res.cloudinary.com/driwu0lv4/image/upload/v1760032398/product_matcher/products/34588.jpg', 'similarity': 0.5030758815486023}, {'product_id': 29167, 'name': 'United Colors of Benetton Girls Red Polka Dot Dress', 'image_url': 'https://res.cloudinary.com/driwu0lv4/image/upload/v1760032400/product_matcher/products/29167.jpg', 'similarity': 0.4876212664011881}, {'product_id': 18175, 'name': 'Doodle Kids Girls Party Frock Lavender Dress', 'image_url': 'https://res.cloudinary.com/driwu0lv4/image/upload/v1760032385/product_matcher/products/18175.jpg', 'similarity': 0.48376184796975896}]}\n"
     ]
    }
   ],
   "source": [
    "url = \"http://localhost:7860/find_similar\"\n",
    "\n",
    "with open(\"/home/rage/Desktop/Development/ProductVisualMatch/test_image2.jpg\", \"rb\") as f:\n",
    "    files = {\n",
    "        \"file\": (\"/home/rage/Desktop/Development/ProductVisualMatch/test_image2.jpg\", f, \"image/jpeg\")  # (filename, file_object, mime_type)\n",
    "    }\n",
    "    params = {\"top_k\": 5}\n",
    "    \n",
    "    response = requests.post(url, files=files, params=params)\n",
    "\n",
    "print(\"Status:\", response.status_code)\n",
    "print(\"Response:\", response.json())\n"
   ]
  },
  {
   "cell_type": "code",
   "execution_count": null,
   "id": "19479315",
   "metadata": {},
   "outputs": [],
   "source": []
  }
 ],
 "metadata": {
  "kernelspec": {
   "display_name": "venv",
   "language": "python",
   "name": "python3"
  },
  "language_info": {
   "codemirror_mode": {
    "name": "ipython",
    "version": 3
   },
   "file_extension": ".py",
   "mimetype": "text/x-python",
   "name": "python",
   "nbconvert_exporter": "python",
   "pygments_lexer": "ipython3",
   "version": "3.12.3"
  }
 },
 "nbformat": 4,
 "nbformat_minor": 5
}
