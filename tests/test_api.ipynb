{
 "cells": [
  {
   "cell_type": "code",
   "execution_count": 1,
   "id": "652ffd56",
   "metadata": {},
   "outputs": [],
   "source": [
    "import requests"
   ]
  },
  {
   "cell_type": "code",
   "execution_count": 3,
   "id": "3a4b46fe",
   "metadata": {},
   "outputs": [],
   "source": [
    "url=\"http://localhost:7860/find_similar\"\n",
    "img={\"file\":open(\"/home/rage/Desktop/Development/ProductVisualMatch/test_image.webp\",\"rb\")}"
   ]
  },
  {
   "cell_type": "code",
   "execution_count": null,
   "id": "f791779b",
   "metadata": {},
   "outputs": [],
   "source": [
    "res=requests.post(url,files=img)"
   ]
  }
 ],
 "metadata": {
  "kernelspec": {
   "display_name": "venv",
   "language": "python",
   "name": "python3"
  },
  "language_info": {
   "codemirror_mode": {
    "name": "ipython",
    "version": 3
   },
   "file_extension": ".py",
   "mimetype": "text/x-python",
   "name": "python",
   "nbconvert_exporter": "python",
   "pygments_lexer": "ipython3",
   "version": "3.12.3"
  }
 },
 "nbformat": 4,
 "nbformat_minor": 5
}
