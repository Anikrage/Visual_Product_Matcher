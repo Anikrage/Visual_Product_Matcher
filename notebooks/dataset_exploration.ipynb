{
 "cells": [
  {
   "cell_type": "code",
   "execution_count": 32,
   "id": "35763e23",
   "metadata": {},
   "outputs": [],
   "source": [
    "import pandas as pd\n",
    "import os\n",
    "import matplotlib.pyplot as plt"
   ]
  },
  {
   "cell_type": "code",
   "execution_count": 2,
   "id": "712c7443",
   "metadata": {},
   "outputs": [
    {
     "data": {
      "text/html": [
       "<div>\n",
       "<style scoped>\n",
       "    .dataframe tbody tr th:only-of-type {\n",
       "        vertical-align: middle;\n",
       "    }\n",
       "\n",
       "    .dataframe tbody tr th {\n",
       "        vertical-align: top;\n",
       "    }\n",
       "\n",
       "    .dataframe thead th {\n",
       "        text-align: right;\n",
       "    }\n",
       "</style>\n",
       "<table border=\"1\" class=\"dataframe\">\n",
       "  <thead>\n",
       "    <tr style=\"text-align: right;\">\n",
       "      <th></th>\n",
       "      <th>id</th>\n",
       "      <th>gender</th>\n",
       "      <th>masterCategory</th>\n",
       "      <th>subCategory</th>\n",
       "      <th>articleType</th>\n",
       "      <th>baseColour</th>\n",
       "      <th>season</th>\n",
       "      <th>year</th>\n",
       "      <th>usage</th>\n",
       "      <th>productDisplayName</th>\n",
       "    </tr>\n",
       "  </thead>\n",
       "  <tbody>\n",
       "    <tr>\n",
       "      <th>0</th>\n",
       "      <td>15970</td>\n",
       "      <td>Men</td>\n",
       "      <td>Apparel</td>\n",
       "      <td>Topwear</td>\n",
       "      <td>Shirts</td>\n",
       "      <td>Navy Blue</td>\n",
       "      <td>Fall</td>\n",
       "      <td>2011.0</td>\n",
       "      <td>Casual</td>\n",
       "      <td>Turtle Check Men Navy Blue Shirt</td>\n",
       "    </tr>\n",
       "    <tr>\n",
       "      <th>1</th>\n",
       "      <td>39386</td>\n",
       "      <td>Men</td>\n",
       "      <td>Apparel</td>\n",
       "      <td>Bottomwear</td>\n",
       "      <td>Jeans</td>\n",
       "      <td>Blue</td>\n",
       "      <td>Summer</td>\n",
       "      <td>2012.0</td>\n",
       "      <td>Casual</td>\n",
       "      <td>Peter England Men Party Blue Jeans</td>\n",
       "    </tr>\n",
       "    <tr>\n",
       "      <th>2</th>\n",
       "      <td>59263</td>\n",
       "      <td>Women</td>\n",
       "      <td>Accessories</td>\n",
       "      <td>Watches</td>\n",
       "      <td>Watches</td>\n",
       "      <td>Silver</td>\n",
       "      <td>Winter</td>\n",
       "      <td>2016.0</td>\n",
       "      <td>Casual</td>\n",
       "      <td>Titan Women Silver Watch</td>\n",
       "    </tr>\n",
       "    <tr>\n",
       "      <th>3</th>\n",
       "      <td>21379</td>\n",
       "      <td>Men</td>\n",
       "      <td>Apparel</td>\n",
       "      <td>Bottomwear</td>\n",
       "      <td>Track Pants</td>\n",
       "      <td>Black</td>\n",
       "      <td>Fall</td>\n",
       "      <td>2011.0</td>\n",
       "      <td>Casual</td>\n",
       "      <td>Manchester United Men Solid Black Track Pants</td>\n",
       "    </tr>\n",
       "    <tr>\n",
       "      <th>4</th>\n",
       "      <td>53759</td>\n",
       "      <td>Men</td>\n",
       "      <td>Apparel</td>\n",
       "      <td>Topwear</td>\n",
       "      <td>Tshirts</td>\n",
       "      <td>Grey</td>\n",
       "      <td>Summer</td>\n",
       "      <td>2012.0</td>\n",
       "      <td>Casual</td>\n",
       "      <td>Puma Men Grey T-shirt</td>\n",
       "    </tr>\n",
       "  </tbody>\n",
       "</table>\n",
       "</div>"
      ],
      "text/plain": [
       "      id gender masterCategory subCategory  articleType baseColour  season  \\\n",
       "0  15970    Men        Apparel     Topwear       Shirts  Navy Blue    Fall   \n",
       "1  39386    Men        Apparel  Bottomwear        Jeans       Blue  Summer   \n",
       "2  59263  Women    Accessories     Watches      Watches     Silver  Winter   \n",
       "3  21379    Men        Apparel  Bottomwear  Track Pants      Black    Fall   \n",
       "4  53759    Men        Apparel     Topwear      Tshirts       Grey  Summer   \n",
       "\n",
       "     year   usage                             productDisplayName  \n",
       "0  2011.0  Casual               Turtle Check Men Navy Blue Shirt  \n",
       "1  2012.0  Casual             Peter England Men Party Blue Jeans  \n",
       "2  2016.0  Casual                       Titan Women Silver Watch  \n",
       "3  2011.0  Casual  Manchester United Men Solid Black Track Pants  \n",
       "4  2012.0  Casual                          Puma Men Grey T-shirt  "
      ]
     },
     "execution_count": 2,
     "metadata": {},
     "output_type": "execute_result"
    }
   ],
   "source": [
    "df=pd.read_csv(r'fashion-product-images-small/myntradataset/styles.csv',on_bad_lines='skip')\n",
    "df.head()"
   ]
  },
  {
   "cell_type": "code",
   "execution_count": 3,
   "id": "b90852f3",
   "metadata": {},
   "outputs": [
    {
     "name": "stdout",
     "output_type": "stream",
     "text": [
      "Rows: 44424, Columns: 10\n"
     ]
    }
   ],
   "source": [
    "print(f\"Rows: {df.shape[0]}, Columns: {df.shape[1]}\") "
   ]
  },
  {
   "cell_type": "code",
   "execution_count": 4,
   "id": "d9a63384",
   "metadata": {},
   "outputs": [
    {
     "name": "stdout",
     "output_type": "stream",
     "text": [
      "Columns: ['id', 'gender', 'masterCategory', 'subCategory', 'articleType', 'baseColour', 'season', 'year', 'usage', 'productDisplayName']\n"
     ]
    }
   ],
   "source": [
    "print(\"Columns:\", df.columns.tolist())"
   ]
  },
  {
   "cell_type": "code",
   "execution_count": 5,
   "id": "01fb9b26",
   "metadata": {},
   "outputs": [
    {
     "name": "stdout",
     "output_type": "stream",
     "text": [
      "id                      0\n",
      "gender                  0\n",
      "masterCategory          0\n",
      "subCategory             0\n",
      "articleType             0\n",
      "baseColour             15\n",
      "season                 21\n",
      "year                    1\n",
      "usage                 317\n",
      "productDisplayName      7\n",
      "dtype: int64\n"
     ]
    }
   ],
   "source": [
    "print(df.isnull().sum())"
   ]
  },
  {
   "cell_type": "code",
   "execution_count": 6,
   "id": "9430c026",
   "metadata": {},
   "outputs": [
    {
     "name": "stdout",
     "output_type": "stream",
     "text": [
      "Unique masterCategory: ['Apparel' 'Accessories' 'Footwear' 'Personal Care' 'Free Items'\n",
      " 'Sporting Goods' 'Home']\n"
     ]
    }
   ],
   "source": [
    "print(\"Unique masterCategory:\", df['masterCategory'].unique())"
   ]
  },
  {
   "cell_type": "code",
   "execution_count": 7,
   "id": "4aa6cd44",
   "metadata": {},
   "outputs": [
    {
     "name": "stdout",
     "output_type": "stream",
     "text": [
      "Unique subCategory: ['Topwear' 'Bottomwear' 'Watches' 'Socks' 'Shoes' 'Belts' 'Flip Flops'\n",
      " 'Bags' 'Innerwear' 'Sandal' 'Shoe Accessories' 'Fragrance' 'Jewellery'\n",
      " 'Lips' 'Saree' 'Eyewear' 'Nails' 'Scarves' 'Dress'\n",
      " 'Loungewear and Nightwear' 'Wallets' 'Apparel Set' 'Headwear' 'Mufflers'\n",
      " 'Skin Care' 'Makeup' 'Free Gifts' 'Ties' 'Accessories' 'Skin'\n",
      " 'Beauty Accessories' 'Water Bottle' 'Eyes' 'Bath and Body' 'Gloves'\n",
      " 'Sports Accessories' 'Cufflinks' 'Sports Equipment' 'Stoles' 'Hair'\n",
      " 'Perfumes' 'Home Furnishing' 'Umbrellas' 'Wristbands' 'Vouchers']\n"
     ]
    }
   ],
   "source": [
    "print(\"Unique subCategory:\",df['subCategory'].unique())"
   ]
  },
  {
   "cell_type": "code",
   "execution_count": 8,
   "id": "7f3dde9a",
   "metadata": {},
   "outputs": [
    {
     "name": "stdout",
     "output_type": "stream",
     "text": [
      "Unique articleType: ['Shirts' 'Jeans' 'Watches' 'Track Pants' 'Tshirts' 'Socks' 'Casual Shoes'\n",
      " 'Belts' 'Flip Flops' 'Handbags' 'Tops' 'Bra' 'Sandals' 'Shoe Accessories'\n",
      " 'Sweatshirts' 'Deodorant' 'Formal Shoes' 'Bracelet' 'Lipstick' 'Flats'\n",
      " 'Kurtas' 'Waistcoat' 'Sports Shoes' 'Shorts' 'Briefs' 'Sarees'\n",
      " 'Perfume and Body Mist' 'Heels' 'Sunglasses' 'Innerwear Vests' 'Pendant'\n",
      " 'Nail Polish' 'Laptop Bag' 'Scarves' 'Rain Jacket' 'Dresses'\n",
      " 'Night suits' 'Skirts' 'Wallets' 'Blazers' 'Ring' 'Kurta Sets' 'Clutches'\n",
      " 'Shrug' 'Backpacks' 'Caps' 'Trousers' 'Earrings' 'Camisoles' 'Boxers'\n",
      " 'Jewellery Set' 'Dupatta' 'Capris' 'Lip Gloss' 'Bath Robe' 'Mufflers'\n",
      " 'Tunics' 'Jackets' 'Trunk' 'Lounge Pants' 'Face Wash and Cleanser'\n",
      " 'Necklace and Chains' 'Duffel Bag' 'Sports Sandals'\n",
      " 'Foundation and Primer' 'Sweaters' 'Free Gifts' 'Trolley Bag'\n",
      " 'Tracksuits' 'Swimwear' 'Shoe Laces' 'Fragrance Gift Set' 'Bangle'\n",
      " 'Nightdress' 'Ties' 'Baby Dolls' 'Leggings' 'Highlighter and Blush'\n",
      " 'Travel Accessory' 'Kurtis' 'Mobile Pouch' 'Messenger Bag' 'Lip Care'\n",
      " 'Face Moisturisers' 'Compact' 'Eye Cream' 'Accessory Gift Set'\n",
      " 'Beauty Accessory' 'Jumpsuit' 'Kajal and Eyeliner' 'Water Bottle'\n",
      " 'Suspenders' 'Lip Liner' 'Robe' 'Salwar and Dupatta' 'Patiala'\n",
      " 'Stockings' 'Eyeshadow' 'Headband' 'Tights' 'Nail Essentials' 'Churidar'\n",
      " 'Lounge Tshirts' 'Face Scrub and Exfoliator' 'Lounge Shorts' 'Gloves'\n",
      " 'Mask and Peel' 'Wristbands' 'Tablet Sleeve' 'Ties and Cufflinks'\n",
      " 'Footballs' 'Stoles' 'Shapewear' 'Nehru Jackets' 'Salwar' 'Cufflinks'\n",
      " 'Jeggings' 'Hair Colour' 'Concealer' 'Rompers' 'Body Lotion' 'Sunscreen'\n",
      " 'Booties' 'Waist Pouch' 'Hair Accessory' 'Rucksacks' 'Basketballs'\n",
      " 'Lehenga Choli' 'Clothing Set' 'Mascara' 'Toner' 'Cushion Covers'\n",
      " 'Key chain' 'Makeup Remover' 'Lip Plumper' 'Umbrellas'\n",
      " 'Face Serum and Gel' 'Hat' 'Mens Grooming Kit' 'Rain Trousers'\n",
      " 'Body Wash and Scrub' 'Suits' 'Ipad']\n"
     ]
    }
   ],
   "source": [
    "print(\"Unique articleType:\",df['articleType'].unique())"
   ]
  },
  {
   "cell_type": "code",
   "execution_count": 10,
   "id": "5daac609",
   "metadata": {},
   "outputs": [
    {
     "name": "stdout",
     "output_type": "stream",
     "text": [
      "masterCategory\n",
      "Apparel           21397\n",
      "Accessories       11274\n",
      "Footwear           9219\n",
      "Personal Care      2403\n",
      "Free Items          105\n",
      "Sporting Goods       25\n",
      "Home                  1\n",
      "Name: count, dtype: int64\n"
     ]
    }
   ],
   "source": [
    "top_categories=df['masterCategory'].value_counts().head(10)\n",
    "print(top_categories)"
   ]
  },
  {
   "cell_type": "code",
   "execution_count": 24,
   "id": "1b860a6f",
   "metadata": {},
   "outputs": [
    {
     "name": "stdout",
     "output_type": "stream",
     "text": [
      "Top 10 masterCategories: ['Apparel', 'Accessories', 'Footwear', 'Personal Care', 'Free Items', 'Sporting Goods', 'Home']\n"
     ]
    }
   ],
   "source": [
    "master_10=top_categories.index.tolist()\n",
    "print('Top 10 masterCategories:', master_10)"
   ]
  },
  {
   "cell_type": "code",
   "execution_count": 28,
   "id": "66498ea4",
   "metadata": {},
   "outputs": [
    {
     "name": "stdout",
     "output_type": "stream",
     "text": [
      "Top 15 sub categories ['Topwear', 'Shoes', 'Bags', 'Bottomwear', 'Watches', 'Innerwear', 'Jewellery', 'Eyewear', 'Fragrance', 'Sandal', 'Wallets', 'Flip Flops', 'Belts', 'Socks', 'Lips']\n"
     ]
    }
   ],
   "source": [
    "sub_counts=df['subCategory'].value_counts().head(15)\n",
    "sub_15=sub_counts.index.tolist()\n",
    "print('Top 15 sub categories', sub_15)"
   ]
  },
  {
   "cell_type": "code",
   "execution_count": 29,
   "id": "5fe4dc53",
   "metadata": {},
   "outputs": [
    {
     "name": "stdout",
     "output_type": "stream",
     "text": [
      "Top 20 article types ['Tshirts', 'Shirts', 'Casual Shoes', 'Watches', 'Sports Shoes', 'Kurtas', 'Tops', 'Handbags', 'Heels', 'Sunglasses', 'Wallets', 'Flip Flops', 'Sandals', 'Briefs', 'Belts', 'Backpacks', 'Socks', 'Formal Shoes', 'Perfume and Body Mist', 'Jeans']\n"
     ]
    }
   ],
   "source": [
    "article_counts=df['articleType'].value_counts().head(20)\n",
    "article_20=article_counts.index.tolist()\n",
    "print('Top 20 article types',article_20)"
   ]
  },
  {
   "cell_type": "code",
   "execution_count": 34,
   "id": "f51b246d",
   "metadata": {},
   "outputs": [
    {
     "data": {
      "text/plain": [
       "<Axes: ylabel='masterCategory'>"
      ]
     },
     "execution_count": 34,
     "metadata": {},
     "output_type": "execute_result"
    },
    {
     "data": {
      "image/png": "[encoded data removed]",
      "text/plain": [
       "<Figure size 640x480 with 1 Axes>"
      ]
     },
     "metadata": {},
     "output_type": "display_data"
    }
   ],
   "source": [
    "top_categories.plot(kind='barh')"
   ]
  },
  {
   "cell_type": "code",
   "execution_count": 35,
   "id": "bb139342",
   "metadata": {},
   "outputs": [
    {
     "data": {
      "text/plain": [
       "<Axes: ylabel='subCategory'>"
      ]
     },
     "execution_count": 35,
     "metadata": {},
     "output_type": "execute_result"
    },
    {
     "data": {
      "image/png": "[encoded data removed]",
      "text/plain": [
       "<Figure size 640x480 with 1 Axes>"
      ]
     },
     "metadata": {},
     "output_type": "display_data"
    }
   ],
   "source": [
    "sub_counts.plot(kind='barh')"
   ]
  },
  {
   "cell_type": "code",
   "execution_count": 36,
   "id": "8f2e774c",
   "metadata": {},
   "outputs": [
    {
     "data": {
      "text/plain": [
       "<Axes: ylabel='articleType'>"
      ]
     },
     "execution_count": 36,
     "metadata": {},
     "output_type": "execute_result"
    },
    {
     "data": {
      "image/png": "[encoded data removed]",
      "text/plain": [
       "<Figure size 640x480 with 1 Axes>"
      ]
     },
     "metadata": {},
     "output_type": "display_data"
    }
   ],
   "source": [
    "article_counts.plot(kind='barh')"
   ]
  },
  {
   "cell_type": "code",
   "execution_count": 38,
   "id": "a8c031bc",
   "metadata": {},
   "outputs": [],
   "source": [
    "top_master=top_categories.head(3).index.tolist()\n",
    "filtered_df=df[df['masterCategory'].isin(top_master)]"
   ]
  },
  {
   "cell_type": "code",
   "execution_count": 43,
   "id": "efa96561",
   "metadata": {},
   "outputs": [],
   "source": [
    "sampled_items=[]\n",
    "\n",
    "for master in top_master:\n",
    "    master_df=filtered_df[filtered_df['masterCategory']==master]\n",
    "    \n",
    "    top_subs=master_df['subCategory'].value_counts().head(6).index\n",
    "    \n",
    "    for sub in top_subs:\n",
    "        sub_df=master_df[master_df['subCategory']==sub]\n",
    "        nsample=min(15,len(sub_df))\n",
    "        if nsample >= 5:\n",
    "            sampled=sub_df.sample(n=nsample)\n",
    "            sampled_items.append(sampled)"
   ]
  },
  {
   "cell_type": "code",
   "execution_count": 49,
   "id": "3e35c69f",
   "metadata": {},
   "outputs": [],
   "source": [
    "final_dataset=pd.concat(sampled_items,ignore_index=True)\n",
    "final_dataset=final_dataset.drop_duplicates(subset=['id']).reset_index(drop=True)"
   ]
  },
  {
   "cell_type": "code",
   "execution_count": 72,
   "id": "280369b0",
   "metadata": {},
   "outputs": [
    {
     "data": {
      "text/html": [
       "<div>\n",
       "<style scoped>\n",
       "    .dataframe tbody tr th:only-of-type {\n",
       "        vertical-align: middle;\n",
       "    }\n",
       "\n",
       "    .dataframe tbody tr th {\n",
       "        vertical-align: top;\n",
       "    }\n",
       "\n",
       "    .dataframe thead th {\n",
       "        text-align: right;\n",
       "    }\n",
       "</style>\n",
       "<table border=\"1\" class=\"dataframe\">\n",
       "  <thead>\n",
       "    <tr style=\"text-align: right;\">\n",
       "      <th></th>\n",
       "      <th>id</th>\n",
       "      <th>gender</th>\n",
       "      <th>masterCategory</th>\n",
       "      <th>subCategory</th>\n",
       "      <th>articleType</th>\n",
       "      <th>baseColour</th>\n",
       "      <th>season</th>\n",
       "      <th>year</th>\n",
       "      <th>usage</th>\n",
       "      <th>productDisplayName</th>\n",
       "      <th>image_path</th>\n",
       "      <th>image_exists</th>\n",
       "    </tr>\n",
       "  </thead>\n",
       "  <tbody>\n",
       "    <tr>\n",
       "      <th>0</th>\n",
       "      <td>12947</td>\n",
       "      <td>Men</td>\n",
       "      <td>Apparel</td>\n",
       "      <td>Topwear</td>\n",
       "      <td>Tshirts</td>\n",
       "      <td>Blue</td>\n",
       "      <td>Fall</td>\n",
       "      <td>2011.0</td>\n",
       "      <td>Casual</td>\n",
       "      <td>Basics Men Blue Striped T-shirt</td>\n",
       "      <td>/home/rage/Desktop/Development/ProductVisualMa...</td>\n",
       "      <td>True</td>\n",
       "    </tr>\n",
       "    <tr>\n",
       "      <th>1</th>\n",
       "      <td>25775</td>\n",
       "      <td>Men</td>\n",
       "      <td>Apparel</td>\n",
       "      <td>Topwear</td>\n",
       "      <td>Suspenders</td>\n",
       "      <td>Black</td>\n",
       "      <td>Summer</td>\n",
       "      <td>2012.0</td>\n",
       "      <td>Formal</td>\n",
       "      <td>Lino Perros Men Black Suspenders</td>\n",
       "      <td>/home/rage/Desktop/Development/ProductVisualMa...</td>\n",
       "      <td>True</td>\n",
       "    </tr>\n",
       "    <tr>\n",
       "      <th>2</th>\n",
       "      <td>6286</td>\n",
       "      <td>Men</td>\n",
       "      <td>Apparel</td>\n",
       "      <td>Topwear</td>\n",
       "      <td>Tshirts</td>\n",
       "      <td>Purple</td>\n",
       "      <td>Summer</td>\n",
       "      <td>2011.0</td>\n",
       "      <td>Casual</td>\n",
       "      <td>UCB Men's Super Star Print Purple T-shirt</td>\n",
       "      <td>/home/rage/Desktop/Development/ProductVisualMa...</td>\n",
       "      <td>True</td>\n",
       "    </tr>\n",
       "    <tr>\n",
       "      <th>3</th>\n",
       "      <td>38494</td>\n",
       "      <td>Boys</td>\n",
       "      <td>Apparel</td>\n",
       "      <td>Topwear</td>\n",
       "      <td>Tshirts</td>\n",
       "      <td>Green</td>\n",
       "      <td>Summer</td>\n",
       "      <td>2012.0</td>\n",
       "      <td>Casual</td>\n",
       "      <td>Gini and Jony Boys United Green T-shirt</td>\n",
       "      <td>/home/rage/Desktop/Development/ProductVisualMa...</td>\n",
       "      <td>True</td>\n",
       "    </tr>\n",
       "    <tr>\n",
       "      <th>4</th>\n",
       "      <td>44225</td>\n",
       "      <td>Men</td>\n",
       "      <td>Apparel</td>\n",
       "      <td>Topwear</td>\n",
       "      <td>Tshirts</td>\n",
       "      <td>White</td>\n",
       "      <td>Summer</td>\n",
       "      <td>2012.0</td>\n",
       "      <td>Casual</td>\n",
       "      <td>Nike Men White Rooney Football T-shirt</td>\n",
       "      <td>/home/rage/Desktop/Development/ProductVisualMa...</td>\n",
       "      <td>True</td>\n",
       "    </tr>\n",
       "  </tbody>\n",
       "</table>\n",
       "</div>"
      ],
      "text/plain": [
       "      id gender masterCategory subCategory articleType baseColour  season  \\\n",
       "0  12947    Men        Apparel     Topwear     Tshirts       Blue    Fall   \n",
       "1  25775    Men        Apparel     Topwear  Suspenders      Black  Summer   \n",
       "2   6286    Men        Apparel     Topwear     Tshirts     Purple  Summer   \n",
       "3  38494   Boys        Apparel     Topwear     Tshirts      Green  Summer   \n",
       "4  44225    Men        Apparel     Topwear     Tshirts      White  Summer   \n",
       "\n",
       "     year   usage                         productDisplayName  \\\n",
       "0  2011.0  Casual            Basics Men Blue Striped T-shirt   \n",
       "1  2012.0  Formal           Lino Perros Men Black Suspenders   \n",
       "2  2011.0  Casual  UCB Men's Super Star Print Purple T-shirt   \n",
       "3  2012.0  Casual    Gini and Jony Boys United Green T-shirt   \n",
       "4  2012.0  Casual     Nike Men White Rooney Football T-shirt   \n",
       "\n",
       "                                          image_path  image_exists  \n",
       "0  /home/rage/Desktop/Development/ProductVisualMa...          True  \n",
       "1  /home/rage/Desktop/Development/ProductVisualMa...          True  \n",
       "2  /home/rage/Desktop/Development/ProductVisualMa...          True  \n",
       "3  /home/rage/Desktop/Development/ProductVisualMa...          True  \n",
       "4  /home/rage/Desktop/Development/ProductVisualMa...          True  "
      ]
     },
     "execution_count": 72,
     "metadata": {},
     "output_type": "execute_result"
    }
   ],
   "source": [
    "final_dataset.head()"
   ]
  },
  {
   "cell_type": "code",
   "execution_count": 47,
   "id": "74349029",
   "metadata": {},
   "outputs": [
    {
     "name": "stdout",
     "output_type": "stream",
     "text": [
      "FINAL DISTRIBUTION\n",
      "\n",
      "Items per Master Category:\n",
      "masterCategory\n",
      "Apparel        90\n",
      "Accessories    90\n",
      "Footwear       45\n",
      "Name: count, dtype: int64\n",
      "\n",
      "Items per Sub Category (top 15):\n",
      "subCategory\n",
      "Topwear                     15\n",
      "Bottomwear                  15\n",
      "Innerwear                   15\n",
      "Dress                       15\n",
      "Loungewear and Nightwear    15\n",
      "Saree                       15\n",
      "Bags                        15\n",
      "Watches                     15\n",
      "Jewellery                   15\n",
      "Eyewear                     15\n",
      "Wallets                     15\n",
      "Belts                       15\n",
      "Shoes                       15\n",
      "Sandal                      15\n",
      "Flip Flops                  15\n",
      "Name: count, dtype: int64\n"
     ]
    }
   ],
   "source": [
    "print(\"FINAL DISTRIBUTION\\n\")\n",
    "print(\"Items per Master Category:\")\n",
    "print(final_dataset['masterCategory'].value_counts())\n",
    "\n",
    "print(\"\\nItems per Sub Category (top 15):\")\n",
    "print(final_dataset['subCategory'].value_counts().head(15))\n"
   ]
  },
  {
   "cell_type": "markdown",
   "id": "a24b46cb",
   "metadata": {},
   "source": [
    "Upload the Filtered Dataset to MongoAtlas and images to Cloudinary"
   ]
  },
  {
   "cell_type": "code",
   "execution_count": 92,
   "id": "3454949c",
   "metadata": {},
   "outputs": [],
   "source": [
    "import json\n",
    "from pymongo import MongoClient\n",
    "from pymongo.server_api import ServerApi\n",
    "from dotenv import load_dotenv\n",
    "import time\n",
    "from tqdm import tqdm\n",
    "import cloudinary\n",
    "import cloudinary.uploader"
   ]
  },
  {
   "cell_type": "code",
   "execution_count": 79,
   "id": "8ac1f31c",
   "metadata": {},
   "outputs": [
    {
     "data": {
      "text/plain": [
       "True"
      ]
     },
     "execution_count": 79,
     "metadata": {},
     "output_type": "execute_result"
    }
   ],
   "source": [
    "load_dotenv()"
   ]
  },
  {
   "cell_type": "code",
   "execution_count": 80,
   "id": "ee447e83",
   "metadata": {},
   "outputs": [],
   "source": [
    "username=os.getenv('MONGO_USERNAME')\n",
    "password=os.getenv('MONGO_PASSWORD')\n",
    "cluster=os.getenv('MONGO_CLUSTER')\n",
    "database=os.getenv('MONGO_DATABASE','product_matcher_db')"
   ]
  },
  {
   "cell_type": "code",
   "execution_count": 85,
   "id": "09cdf519",
   "metadata": {},
   "outputs": [],
   "source": [
    "c_name= os.getenv('CLOUDINARY_CLOUD_NAME')\n",
    "key= os.getenv('CLOUDINARY_API_KEY')\n",
    "secret= os.getenv('CLOUDINARY_API_SECRET')"
   ]
  },
  {
   "cell_type": "code",
   "execution_count": 86,
   "id": "32d4e34d",
   "metadata": {},
   "outputs": [
    {
     "data": {
      "text/plain": [
       "<cloudinary.Config at 0x7a7d8612ec60>"
      ]
     },
     "execution_count": 86,
     "metadata": {},
     "output_type": "execute_result"
    }
   ],
   "source": [
    "cloudinary.config(cloud_name=c_name,api_key=key,api_secret=secret)"
   ]
  },
  {
   "cell_type": "code",
   "execution_count": 87,
   "id": "250e9c1a",
   "metadata": {},
   "outputs": [],
   "source": [
    "connect_url=f\"mongodb+srv://{username}:{password}@{cluster}/?retryWrites=true&w=majority&appName=ProductImageCluster\""
   ]
  },
  {
   "cell_type": "code",
   "execution_count": 88,
   "id": "33b58018",
   "metadata": {},
   "outputs": [
    {
     "name": "stdout",
     "output_type": "stream",
     "text": [
      "Pinged your deployment. You successfully connected to MongoDB!\n"
     ]
    }
   ],
   "source": [
    "client = MongoClient(connect_url, server_api=ServerApi('1'))\n",
    "try:\n",
    "    client.admin.command('ping')\n",
    "    print(\"Pinged your deployment. You successfully connected to MongoDB!\")\n",
    "except Exception as e:\n",
    "    print(e)"
   ]
  },
  {
   "cell_type": "code",
   "execution_count": 89,
   "id": "901ba7dc",
   "metadata": {},
   "outputs": [],
   "source": [
    "db=client[database]\n",
    "products_collection=db['products']"
   ]
  },
  {
   "cell_type": "code",
   "execution_count": 90,
   "id": "d63a976e",
   "metadata": {},
   "outputs": [],
   "source": [
    "image_dir='fashion-product-images-small/myntradataset/images'"
   ]
  },
  {
   "cell_type": "code",
   "execution_count": 95,
   "id": "75a9961a",
   "metadata": {},
   "outputs": [
    {
     "name": "stderr",
     "output_type": "stream",
     "text": [
      "uploading data: 100%|██████████| 225/225 [04:17<00:00,  1.14s/it]\n"
     ]
    }
   ],
   "source": [
    "s=0\n",
    "for i,row in tqdm(final_dataset.iterrows(),total=len(final_dataset),desc=\"uploading data\"):\n",
    "    product_id=int(row['id'])\n",
    "    image_path=row['image_path']\n",
    "    \n",
    "    try:\n",
    "        \n",
    "        res=cloudinary.uploader.upload(image_path,public_id=f\"{product_id}\",\n",
    "                                         folder=\"product_matcher/products\",\n",
    "                                         overwrite=True,\n",
    "                                         resource_type=\"image\")\n",
    "        \n",
    "        cloud_url=res['secure_url']\n",
    "        \n",
    "        product = {\n",
    "            'product_id': product_id,\n",
    "            'name': row['productDisplayName'],\n",
    "            'master_category': row['masterCategory'],\n",
    "            'sub_category': row['subCategory'],\n",
    "            'article_type': row['articleType'],\n",
    "            'gender': row.get('gender'),\n",
    "            'base_colour': row.get('baseColour'),\n",
    "            'season': row.get('season'),\n",
    "            'year': int(row['year']) if pd.notna(row.get('year')) else None,\n",
    "            'usage': row.get('usage'),\n",
    "            'image_url': cloud_url,\n",
    "            'cloudinary_public_id': res['public_id'],\n",
    "            'embedding': None  \n",
    "        }\n",
    "        \n",
    "        products_collection.insert_one(product)\n",
    "        s+=1\n",
    "    except Exception as e:\n",
    "        print(\"\\nerror\",e)\n"
   ]
  },
  {
   "cell_type": "code",
   "execution_count": 96,
   "id": "eebf3f7b",
   "metadata": {},
   "outputs": [
    {
     "name": "stdout",
     "output_type": "stream",
     "text": [
      "225 items uploaded to mongo\n"
     ]
    }
   ],
   "source": [
    "print(f\"{s} items uploaded to mongo\")"
   ]
  }
 ],
 "metadata": {
  "kernelspec": {
   "display_name": "venv",
   "language": "python",
   "name": "python3"
  },
  "language_info": {
   "codemirror_mode": {
    "name": "ipython",
    "version": 3
   },
   "file_extension": ".py",
   "mimetype": "text/x-python",
   "name": "python",
   "nbconvert_exporter": "python",
   "pygments_lexer": "ipython3",
   "version": "3.12.3"
  }
 },
 "nbformat": 4,
 "nbformat_minor": 5
}
